{
 "cells": [
  {
   "cell_type": "markdown",
   "source": [
    "AWS"
   ],
   "metadata": {
    "collapsed": false
   }
  },
  {
   "cell_type": "code",
   "execution_count": 1,
   "outputs": [],
   "source": [
    "import boto3\n",
    "from PIL import Image\n",
    "import os\n",
    "import pandas as pd\n",
    "import io\n",
    "import numpy as np\n",
    "import re\n",
    "import time"
   ],
   "metadata": {
    "collapsed": false,
    "pycharm": {
     "name": "#%%\n"
    }
   }
  },
  {
   "cell_type": "code",
   "execution_count": 2,
   "outputs": [],
   "source": [
    "DIR_PATH = \"/users/Shared/New\""
   ],
   "metadata": {
    "collapsed": false,
    "pycharm": {
     "name": "#%%\n"
    }
   }
  },
  {
   "cell_type": "code",
   "execution_count": 3,
   "outputs": [],
   "source": [
    "client=boto3.client('rekognition')"
   ],
   "metadata": {
    "collapsed": false,
    "pycharm": {
     "name": "#%%\n"
    }
   }
  },
  {
   "cell_type": "code",
   "execution_count": 4,
   "outputs": [],
   "source": [
    "def detect_text_aws(img, client):\n",
    "    img.save(\"new.png\")\n",
    "    with io.open(\"./new.png\", 'rb') as image_file: # use file.filename\n",
    "        response = client.detect_text(Image={'Bytes': image_file.read()})\n",
    "\n",
    "    return response"
   ],
   "metadata": {
    "collapsed": false,
    "pycharm": {
     "name": "#%%\n"
    }
   }
  },
  {
   "cell_type": "code",
   "execution_count": 5,
   "outputs": [],
   "source": [
    "def get_heroes_stats(player_name, img, response, all_heroes_df):\n",
    "    all_words_in_image = pd.DataFrame([(x['DetectedText'], x['Geometry']['Polygon'][0]['X'], x['Geometry']['Polygon'][0]['Y'], i) for i,x in enumerate(response['TextDetections']) if x['Type'] == 'WORD'], columns=['Word', 'x', 'y', 'PosNum'])\n",
    "\n",
    "    result_df = all_heroes_df.merge(all_words_in_image, how = 'left', on = 'Word')\n",
    "    result_df = result_df[result_df['PosNum'].notna()]\n",
    "    result_df['PosDiff'] = result_df['PosNum'] - result_df['WordNum']\n",
    "    result_df = result_df.groupby(['Hero', 'PosDiff']).agg({'WordCount': 'max', 'Word': 'count', 'x':'min', 'y': 'min'})\n",
    "    boxes = result_df[result_df['WordCount'] == result_df['Word']].reset_index()[['Hero', 'x', 'y']].values.tolist()\n",
    "\n",
    "    return [\n",
    "        (player_name,)\n",
    "        +(box[0],)\n",
    "        +([s['DetectedText'] for s in response['TextDetections'] if s['Type'] == 'WORD' and np.abs(s['Geometry']['Polygon'][0]['X'] - box[1] - 0.0036100447177886963  / 0.74) < 0.01 and np.abs(s['Geometry']['Polygon'][0]['Y'] - box[2] + 0.30078125 / 0.8) < 0.01][0:1],)\n",
    "        +([s['DetectedText'] for s in response['TextDetections'] if s['Type'] == 'WORD' and np.abs(s['Geometry']['Polygon'][0]['X'] - box[1] - 0.041064225137233734  / 0.74) < 0.015 and np.abs(s['Geometry']['Polygon'][0]['Y'] - box[2] + 0.1259765625 / 0.8) < 0.015][0:1],)\n",
    "        + get_stars(img, box[1], box[2])\n",
    "        for box in boxes\n",
    "    ]"
   ],
   "metadata": {
    "collapsed": false,
    "pycharm": {
     "name": "#%%\n"
    }
   }
  },
  {
   "cell_type": "code",
   "execution_count": 6,
   "outputs": [],
   "source": [
    "def get_star(s):\n",
    "    if s[0] < 100:\n",
    "        return 0\n",
    "    elif s[2] < s[1]:\n",
    "        return 1\n",
    "    else:\n",
    "        return 2\n",
    "\n",
    "def get_stars(img, x, y):\n",
    "    q = 0.01495 / 0.74\n",
    "    stars_list = [get_star(img.getpixel((img.width * (x + 0.001 / 0.74 + i * q), img.height * (y - 0.078 / 0.8)))) for i in range(7)]\n",
    "    return sum([1 for x in stars_list if x == 2]), sum([1 for x in stars_list if x >= 1])"
   ],
   "metadata": {
    "collapsed": false,
    "pycharm": {
     "name": "#%%\n"
    }
   }
  },
  {
   "cell_type": "markdown",
   "source": [
    "Get hero power"
   ],
   "metadata": {
    "collapsed": false
   }
  },
  {
   "cell_type": "code",
   "execution_count": 7,
   "outputs": [],
   "source": [
    "bad_list = []\n",
    "responses = {}"
   ],
   "metadata": {
    "collapsed": false,
    "pycharm": {
     "name": "#%%\n"
    }
   }
  },
  {
   "cell_type": "code",
   "execution_count": 8,
   "outputs": [],
   "source": [
    "all_heroes_list = pd.read_csv(\"all_heroes.csv\", header=None)[0].values.tolist()\n",
    "all_heroes_df = pd.DataFrame(\n",
    "    [item for sublist in [[(x, y, i, len(x.split())) for i, y in enumerate(x.split())] for x in all_heroes_list] for\n",
    "     item in sublist], columns=['Hero', 'Word', 'WordNum', 'WordCount'])"
   ],
   "metadata": {
    "collapsed": false,
    "pycharm": {
     "name": "#%%\n"
    }
   }
  },
  {
   "cell_type": "code",
   "execution_count": 13,
   "outputs": [
    {
     "name": "stdout",
     "output_type": "stream",
     "text": [
      "switching player name to Moore#12TO\n"
     ]
    }
   ],
   "source": [
    "heroes_list = []\n",
    "player_name = \"\"\n",
    "for (dirpath, dirnames, filenames) in os.walk(DIR_PATH):\n",
    "    filenames.sort()\n",
    "    for file in filenames:\n",
    "        if file != \".DS_Store\":\n",
    "            ##################################\n",
    "            ##Change the criterion for distinguishing player screen from main screens there\n",
    "            ##################################\n",
    "            if os.path.getsize(dirpath + \"/\" + file) <= 4.5 * 1024 * 1024:\n",
    "                img = Image.open(dirpath+'/'+file)\n",
    "                response1 = detect_text_aws(img.crop((500, 0, 1800, 180)), client)\n",
    "                player_name = response1[\"TextDetections\"][0][\"DetectedText\"]\n",
    "                print('switching player name to ' + player_name)\n",
    "            else:\n",
    "                img = Image.open(dirpath+'/'+file)\n",
    "                img = img.crop((img.width * 0.09, img.height * 0.2, img.width * 0.83, img.height))\n",
    "                img.save(\"new.png\")\n",
    "                with io.open(\"./new.png\", 'rb') as image_file: # use file.filename\n",
    "                    response = client.detect_text(Image={'Bytes': image_file.read()})\n",
    "                responses[file] = response\n",
    "                #response = responses[file]\n",
    "                heroes_list_new = get_heroes_stats(player_name, img, response, all_heroes_df)\n",
    "                heroes_list += heroes_list_new\n",
    "                if len(heroes_list_new) != 10:\n",
    "                    bad_list.append((file, heroes_list_new))\n",
    "                    print(\"Not all heroes from \" + file + \" parsed. Only \" + str(len(heroes_list_new)) +\"/10 heroes parsed. You may find AWS recognition response for that file in responses dict with filename as the key\")"
   ],
   "metadata": {
    "collapsed": false,
    "pycharm": {
     "name": "#%%\n"
    }
   }
  },
  {
   "cell_type": "code",
   "execution_count": 14,
   "outputs": [],
   "source": [
    "df_heroes = pd.DataFrame(heroes_list, columns = ['Player', 'Hero', 'Level', 'Eq', 'AS', 'Stars'])\n",
    "df_heroes['Level'] = df_heroes['Level'].astype(str).str.extract('([0-9]+)')\n",
    "df_heroes['Eq'] = df_heroes['Eq'].astype(str).str.replace('([^0-9]+)', '', regex = True)\n",
    "df_heroes.to_excel(\"player_hero.xlsx\")"
   ],
   "metadata": {
    "collapsed": false,
    "pycharm": {
     "name": "#%%\n"
    }
   }
  },
  {
   "cell_type": "markdown",
   "source": [
    "Raid results"
   ],
   "metadata": {
    "collapsed": false,
    "pycharm": {
     "name": "#%% md\n"
    }
   }
  },
  {
   "cell_type": "code",
   "execution_count": null,
   "outputs": [],
   "source": [
    "p = re.compile('(.+#.+)|([0-9,]+)')\n",
    "player_results = []\n",
    "for (dirpath, dirnames, filenames) in os.walk(DIR_PATH):\n",
    "    filenames.sort()\n",
    "    for file in filenames:\n",
    "        if file != \".DS_Store\":\n",
    "            img = Image.open(DIR_PATH + '/' + file)\n",
    "            img = img.crop((img.width * 0.315, img.height * 0.42, img.width * 0.83 , img.height))\n",
    "            img.save(\"new.png\")\n",
    "            with io.open(\"./new.png\", 'rb') as image_file: # use file.filename\n",
    "                response = client.detect_text(Image={'Bytes': image_file.read()})\n",
    "            s = [x for x in [(x['DetectedText']) for x in response['TextDetections'] if x['Type'] == 'WORD'] if p.match(x)]\n",
    "            player_results += [(time.ctime(os.path.getmtime(DIR_PATH + '/' + file)), s[2*i], s[i*2+1]) for i in range(int(len(s)/2))]"
   ],
   "metadata": {
    "collapsed": false,
    "pycharm": {
     "name": "#%%\n"
    }
   }
  },
  {
   "cell_type": "code",
   "execution_count": null,
   "outputs": [],
   "source": [
    "pd.DataFrame(player_results).to_excel(\"ER_results2.xlsx\")"
   ],
   "metadata": {
    "collapsed": false,
    "pycharm": {
     "name": "#%%\n"
    }
   }
  },
  {
   "cell_type": "markdown",
   "source": [
    "Checks (used only for debugging)"
   ],
   "metadata": {
    "collapsed": false
   }
  },
  {
   "cell_type": "code",
   "execution_count": null,
   "outputs": [],
   "source": [
    "img = Image.open(DIR_PATH + '/' + \"IMG_0085.PNG\")\n",
    "img = img.crop((img.width * 0.315, img.height * 0.42, img.width * 0.83 , img.height))\n",
    "img.save(\"new.png\")"
   ],
   "metadata": {
    "collapsed": false,
    "pycharm": {
     "name": "#%%\n"
    }
   }
  },
  {
   "cell_type": "code",
   "execution_count": null,
   "outputs": [],
   "source": [
    "s = [(x['DetectedText']) for x in response['TextDetections'] if x['Type'] == 'WORD']"
   ],
   "metadata": {
    "collapsed": false,
    "pycharm": {
     "name": "#%%\n"
    }
   }
  },
  {
   "cell_type": "code",
   "execution_count": null,
   "outputs": [],
   "source": [
    "p = re.compile('(.+#.+)|([0-9,]+)')"
   ],
   "metadata": {
    "collapsed": false,
    "pycharm": {
     "name": "#%%\n"
    }
   }
  },
  {
   "cell_type": "code",
   "execution_count": null,
   "outputs": [],
   "source": [
    "s = [x for x in [(x['DetectedText']) for x in response['TextDetections'] if x['Type'] == 'WORD'] if p.match(x)]"
   ],
   "metadata": {
    "collapsed": false,
    "pycharm": {
     "name": "#%%\n"
    }
   }
  },
  {
   "cell_type": "code",
   "execution_count": null,
   "outputs": [],
   "source": [
    "s"
   ],
   "metadata": {
    "collapsed": false,
    "pycharm": {
     "name": "#%%\n"
    }
   }
  },
  {
   "cell_type": "code",
   "execution_count": null,
   "outputs": [],
   "source": [
    "[(s[2*i], s[i*2+1]) for i in range(int(len(s)/2))]"
   ],
   "metadata": {
    "collapsed": false,
    "pycharm": {
     "name": "#%%\n"
    }
   }
  },
  {
   "cell_type": "code",
   "execution_count": null,
   "outputs": [],
   "source": [
    "player_results"
   ],
   "metadata": {
    "collapsed": false,
    "pycharm": {
     "name": "#%%\n"
    }
   }
  },
  {
   "cell_type": "code",
   "execution_count": null,
   "outputs": [],
   "source": [
    "img = Image.open(DIR_PATH + '/' + \"IMG_0085.PNG\")\n",
    "img = img.crop((img.width * 0.09, img.height * 0.2, img.width * 0.83 , img.height))\n",
    "img.save(\"new.png\")"
   ],
   "metadata": {
    "collapsed": false,
    "pycharm": {
     "name": "#%%\n"
    }
   }
  },
  {
   "cell_type": "code",
   "execution_count": null,
   "outputs": [],
   "source": [
    "img"
   ],
   "metadata": {
    "collapsed": false,
    "pycharm": {
     "name": "#%%\n"
    }
   }
  },
  {
   "cell_type": "code",
   "execution_count": null,
   "outputs": [],
   "source": [
    "with io.open(\"./new.png\", 'rb') as image_file: # use file.filename\n",
    "    response = client.detect_text(Image={'Bytes': image_file.read()})"
   ],
   "metadata": {
    "collapsed": false,
    "pycharm": {
     "name": "#%%\n"
    }
   }
  },
  {
   "cell_type": "code",
   "execution_count": null,
   "outputs": [],
   "source": [
    "response = responses['IMG_0013.PNG']"
   ],
   "metadata": {
    "collapsed": false,
    "pycharm": {
     "name": "#%%\n"
    }
   }
  },
  {
   "cell_type": "code",
   "execution_count": null,
   "outputs": [],
   "source": [],
   "metadata": {
    "collapsed": false,
    "pycharm": {
     "name": "#%%\n"
    }
   }
  },
  {
   "cell_type": "code",
   "execution_count": null,
   "outputs": [],
   "source": [
    "get_heroes_stats('Victor', img, response, all_heroes_df)"
   ],
   "metadata": {
    "collapsed": false,
    "pycharm": {
     "name": "#%%\n"
    }
   }
  },
  {
   "cell_type": "code",
   "execution_count": null,
   "outputs": [],
   "source": [
    "img"
   ],
   "metadata": {
    "collapsed": false,
    "pycharm": {
     "name": "#%%\n"
    }
   }
  },
  {
   "cell_type": "code",
   "execution_count": null,
   "outputs": [],
   "source": [
    "all_heroes_list = pd.read_csv(\"all_heroes.csv\", header=None)[0].values.tolist()"
   ],
   "metadata": {
    "collapsed": false,
    "pycharm": {
     "name": "#%%\n"
    }
   }
  },
  {
   "cell_type": "code",
   "execution_count": null,
   "outputs": [],
   "source": [
    "all_heroes_df = pd.DataFrame([item for sublist in [[(x, y, i, len(x.split())) for i, y in enumerate(x.split())] for x in all_heroes_list] for item in sublist], columns=['Hero', 'Word', 'WordNum', 'WordCount'])"
   ],
   "metadata": {
    "collapsed": false,
    "pycharm": {
     "name": "#%%\n"
    }
   }
  },
  {
   "cell_type": "code",
   "execution_count": null,
   "outputs": [],
   "source": [
    "all_words_in_image = pd.DataFrame([(x['DetectedText'], x['Geometry']['Polygon'][0]['X'], x['Geometry']['Polygon'][0]['Y'], i) for i,x in enumerate(response['TextDetections']) if x['Type'] == 'WORD'], columns=['Word', 'x', 'y', 'PosNum'])"
   ],
   "metadata": {
    "collapsed": false,
    "pycharm": {
     "name": "#%%\n"
    }
   }
  },
  {
   "cell_type": "code",
   "execution_count": null,
   "outputs": [],
   "source": [
    "all_words_in_image"
   ],
   "metadata": {
    "collapsed": false,
    "pycharm": {
     "name": "#%%\n"
    }
   }
  },
  {
   "cell_type": "code",
   "execution_count": null,
   "outputs": [],
   "source": [
    "result_df = all_heroes_df.merge(all_words_in_image, how = 'left', on = 'Word')\n",
    "result_df = result_df[result_df['PosNum'].notna()]\n",
    "result_df['PosDiff'] = result_df['PosNum'] - result_df['WordNum']\n",
    "result_df = result_df.groupby(['Hero', 'PosDiff']).agg({'WordCount': 'max', 'Word': 'count', 'x':'min', 'y': 'min'})\n",
    "result_df = result_df[result_df['WordCount'] == result_df['Word']].reset_index()[['Hero', 'x', 'y']].values.tolist()"
   ],
   "metadata": {
    "collapsed": false,
    "pycharm": {
     "name": "#%%\n"
    }
   }
  },
  {
   "cell_type": "code",
   "execution_count": null,
   "outputs": [],
   "source": [
    "[x for x in result_df]"
   ],
   "metadata": {
    "collapsed": false,
    "pycharm": {
     "name": "#%%\n"
    }
   }
  },
  {
   "cell_type": "code",
   "execution_count": null,
   "outputs": [],
   "source": [
    "img.crop()"
   ],
   "metadata": {
    "collapsed": false,
    "pycharm": {
     "name": "#%%\n"
    }
   }
  },
  {
   "cell_type": "code",
   "execution_count": null,
   "outputs": [],
   "source": [
    "boxes = [(s['DetectedText'], s['Geometry']['Polygon'][0]['X'], s['Geometry']['Polygon'][0]['Y']) for s in response['TextDetections'] if s['DetectedText'] in all_heroes_list and s['Type'] == 'LINE']\n",
    "boxes"
   ],
   "metadata": {
    "collapsed": false,
    "pycharm": {
     "name": "#%%\n"
    }
   }
  },
  {
   "cell_type": "code",
   "execution_count": null,
   "outputs": [],
   "source": [
    "[\n",
    "    (box[0],)\n",
    "    +([s['DetectedText'] for s in response['TextDetections'] if s['Type'] == 'WORD' and np.abs(s['Geometry']['Polygon'][0]['X'] - box[1] - 0.0036100447177886963  / 0.7) < 0.01 and np.abs(s['Geometry']['Polygon'][0]['Y'] - box[2] + 0.30078125 / 0.8) < 0.01][0:1],)\n",
    "    +([s['DetectedText'] for s in response['TextDetections'] if s['Type'] == 'WORD' and np.abs(s['Geometry']['Polygon'][0]['X'] - box[1] - 0.041064225137233734  / 0.7) < 0.015 and np.abs(s['Geometry']['Polygon'][0]['Y'] - box[2] + 0.1259765625 / 0.8) < 0.015][0:1],)\n",
    "    + get_stars(img, box[1], box[2])\n",
    "    for box in boxes\n",
    "]"
   ],
   "metadata": {
    "collapsed": false,
    "pycharm": {
     "name": "#%%\n"
    }
   }
  },
  {
   "cell_type": "code",
   "execution_count": null,
   "outputs": [],
   "source": [
    "img.crop((img.width * (boxes[1][1] - 0.01), img.height * (boxes[1][2] - 0.1), img.width * (boxes[1][1] + 0.1), img.height * (boxes[1][2] - 0.06)))"
   ],
   "metadata": {
    "collapsed": false,
    "pycharm": {
     "name": "#%%\n"
    }
   }
  },
  {
   "cell_type": "code",
   "execution_count": null,
   "outputs": [],
   "source": [
    "x = boxes[0][1]\n",
    "y = boxes[0][2]\n",
    "\n",
    "[img.getpixel((img.width * (x + 0.001 + i * q), img.height * (y - 0.078))) for i in range(7)]"
   ],
   "metadata": {
    "collapsed": false,
    "pycharm": {
     "name": "#%%\n"
    }
   }
  },
  {
   "cell_type": "code",
   "execution_count": null,
   "outputs": [],
   "source": [
    "[s['DetectedText'] for s in response['TextDetections']]"
   ],
   "metadata": {
    "collapsed": false,
    "pycharm": {
     "name": "#%%\n"
    }
   }
  }
 ],
 "metadata": {
  "kernelspec": {
   "display_name": "Python 3 (ipykernel)",
   "language": "python",
   "name": "python3"
  },
  "language_info": {
   "codemirror_mode": {
    "name": "ipython",
    "version": 3
   },
   "file_extension": ".py",
   "mimetype": "text/x-python",
   "name": "python",
   "nbconvert_exporter": "python",
   "pygments_lexer": "ipython3",
   "version": "3.9.7"
  }
 },
 "nbformat": 4,
 "nbformat_minor": 5
}